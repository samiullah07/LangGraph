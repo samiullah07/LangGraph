{
 "cells": [
  {
   "cell_type": "code",
   "execution_count": 295,
   "id": "c5b56fab",
   "metadata": {},
   "outputs": [
    {
     "data": {
      "text/plain": [
       "True"
      ]
     },
     "execution_count": 295,
     "metadata": {},
     "output_type": "execute_result"
    }
   ],
   "source": [
    "from langgraph.graph import StateGraph, START, END\n",
    "from typing import TypedDict, Literal, List\n",
    "from langchain_openai import ChatOpenAI\n",
    "from dotenv import load_dotenv\n",
    "from pydantic import BaseModel, Field\n",
    "\n",
    "load_dotenv()"
   ]
  },
  {
   "cell_type": "code",
   "execution_count": 296,
   "id": "dba593c0",
   "metadata": {},
   "outputs": [],
   "source": [
    "model = ChatOpenAI(model_name=\"gpt-4o-mini\")"
   ]
  },
  {
   "cell_type": "code",
   "execution_count": 297,
   "id": "11501b3d",
   "metadata": {},
   "outputs": [],
   "source": [
    "class Review(BaseModel):\n",
    "    sentiment: Literal['support_team_reply', 'product_team_reply', 'marketing_team_reply'] =  Field(..., description=\"Decide which team should handle this customer review.'support_team_reply', 'product_team_reply', 'marketing_team_reply' \")\n",
    "\n",
    "structure_model = model.with_structured_output(Review)    \n"
   ]
  },
  {
   "cell_type": "code",
   "execution_count": 298,
   "id": "528a3998",
   "metadata": {},
   "outputs": [],
   "source": [
    "class diagonisisSchema(BaseModel):\n",
    "    issue: str\n",
    "    severity: Literal['low', 'medium', 'high']\n",
    "\n",
    "sturcture_model_diagnosis = model.with_structured_output(diagonisisSchema)    \n",
    "\n"
   ]
  },
  {
   "cell_type": "code",
   "execution_count": 299,
   "id": "ace0f90c",
   "metadata": {},
   "outputs": [],
   "source": [
    "class CustomerReview(TypedDict):\n",
    "    review: str\n",
    "    sentiment: Literal['positive', 'negative', 'neutral']\n",
    "    diagonisis : diagonisisSchema\n",
    "    route_decision: Literal['support_team_reply',\"product_team_reply\",\"marketing_team_reply\"]\n",
    "    reply: str\n",
    "\n",
    "\n"
   ]
  },
  {
   "cell_type": "code",
   "execution_count": 300,
   "id": "22c4c9ac",
   "metadata": {},
   "outputs": [],
   "source": [
    "def find_sentiment(state: CustomerReview) -> CustomerReview:\n",
    "    review = state['review']\n",
    "    \n",
    "    prompt = f\"\"\"Decide which team should handle this customer review.\n",
    "    Options: 'support_team_reply', 'product_team_reply', 'marketing_team_reply'\n",
    "    Review: \\\"{review}\\\"\"\"\"\n",
    "    route_decision = structure_model.invoke(prompt)\n",
    "    return {\"route_decision\": route_decision.sentiment}\n"
   ]
  },
  {
   "cell_type": "code",
   "execution_count": 301,
   "id": "f9cc065a",
   "metadata": {},
   "outputs": [],
   "source": [
    "def support_team_reply(state: CustomerReview) -> CustomerReview:\n",
    "    review = state['review']\n",
    "    \n",
    "    prompt = f\"Support team reply to this review: \\\"{review}\\\"\"\n",
    "    reply = model.invoke(prompt)\n",
    "    \n",
    "    return {\"reply\": reply}"
   ]
  },
  {
   "cell_type": "code",
   "execution_count": 302,
   "id": "6ffa2124",
   "metadata": {},
   "outputs": [],
   "source": [
    "def product_team_reply(state: CustomerReview) -> CustomerReview:\n",
    "    review = state['review']\n",
    "    \n",
    "    prompt = f\"Product team reply to this review: \\\"{review}\\\"\"\n",
    "    reply = model.invoke(prompt)\n",
    "    \n",
    "    return {\"reply\": reply}"
   ]
  },
  {
   "cell_type": "code",
   "execution_count": 303,
   "id": "b99c1955",
   "metadata": {},
   "outputs": [],
   "source": [
    "def marketing_team_reply(state: CustomerReview) -> CustomerReview:\n",
    "    review = state['review']\n",
    "    \n",
    "    prompt = f\"Marketing team reply to this review: \\\"{review}\\\"\"\n",
    "    reply = structure_model.invoke(prompt)\n",
    "    \n",
    "    return {\"reply\": reply}"
   ]
  },
  {
   "cell_type": "code",
   "execution_count": 304,
   "id": "10567f81",
   "metadata": {},
   "outputs": [],
   "source": [
    "def check_route_decision(state: CustomerReview) -> Literal['support_team_reply', 'product_team_reply', 'marketing_team_reply']:\n",
    "    route_decision = state['route_decision']\n",
    "    \n",
    "    if route_decision == \"support_team_reply\":\n",
    "        return 'support_team_reply'\n",
    "    elif route_decision == \"product_team_reply\":\n",
    "        return 'product_team_reply'\n",
    "    elif route_decision == \"marketing_team_reply\":\n",
    "        return 'marketing_team_reply'\n",
    "    else:\n",
    "        raise ValueError(\"Invalid route decision\")"
   ]
  },
  {
   "cell_type": "code",
   "execution_count": 305,
   "id": "212e668b",
   "metadata": {},
   "outputs": [
    {
     "data": {
      "text/plain": [
       "<langgraph.graph.state.StateGraph at 0x1e624b3d480>"
      ]
     },
     "execution_count": 305,
     "metadata": {},
     "output_type": "execute_result"
    }
   ],
   "source": [
    "state_graph = StateGraph(CustomerReview)\n",
    "state_graph.add_node(\"find_sentiment\", find_sentiment)\n",
    "state_graph.add_node(\"support_team_reply\",support_team_reply)\n",
    "state_graph.add_node(\"product_team_reply\",product_team_reply)\n",
    "state_graph.add_node(\"marketing_team_reply\",marketing_team_reply)\n",
    "\n",
    "state_graph.add_edge(START, \"find_sentiment\")\n",
    "# state_graph.add_edge(\"find_sentiment\",\"check_route_decision\") \n",
    "state_graph.add_conditional_edges(\"find_sentiment\", check_route_decision, {\n",
    "    \"support_team_reply\": \"support_team_reply\",\n",
    "    \"product_team_reply\": \"product_team_reply\",\n",
    "    \"marketing_team_reply\": \"marketing_team_reply\"\n",
    "})\n",
    "\n",
    "state_graph.add_edge(\"support_team_reply\", END)\n",
    "state_graph.add_edge(\"product_team_reply\", END)\n",
    "state_graph.add_edge(\"marketing_team_reply\", END)"
   ]
  },
  {
   "cell_type": "code",
   "execution_count": 306,
   "id": "f92e2f17",
   "metadata": {},
   "outputs": [
    {
     "data": {
      "image/png": "[encoded data removed]",
      "text/plain": [
       "<langgraph.graph.state.CompiledStateGraph object at 0x000001E624B3E190>"
      ]
     },
     "execution_count": 306,
     "metadata": {},
     "output_type": "execute_result"
    }
   ],
   "source": [
    "workflow = state_graph.compile()\n",
    "\n",
    "workflow"
   ]
  },
  {
   "cell_type": "code",
   "execution_count": 307,
   "id": "6bd030e1",
   "metadata": {},
   "outputs": [
    {
     "data": {
      "text/plain": [
       "{'review': 'The new update broke several features I use daily. Please roll back the changes or fix them soon.',\n",
       " 'route_decision': 'support_team_reply',\n",
       " 'reply': AIMessage(content=\"Subject: Thank You for Your Feedback\\n\\nHi [Reviewer’s Name],\\n\\nThank you for taking the time to share your thoughts with us. We sincerely apologize for the issues you've experienced since the recent update. We understand how frustrating it can be when features you rely on aren't functioning as expected.\\n\\nOur team is aware of these concerns and is actively working on a solution to restore these features as quickly as possible. Your feedback is invaluable in helping us improve, and we appreciate your patience during this time.\\n\\nIf you have any specific features that you're having trouble with, please feel free to share them with us. We want to ensure that we address all your concerns effectively.\\n\\nThank you for your understanding!\\n\\nBest regards,  \\n[Your Name]  \\nCustomer Support Team  \\n[Your Company Name]  \", additional_kwargs={'refusal': None}, response_metadata={'token_usage': {'completion_tokens': 156, 'prompt_tokens': 35, 'total_tokens': 191, 'completion_tokens_details': {'accepted_prediction_tokens': 0, 'audio_tokens': 0, 'reasoning_tokens': 0, 'rejected_prediction_tokens': 0}, 'prompt_tokens_details': {'audio_tokens': 0, 'cached_tokens': 0}}, 'model_name': 'gpt-4o-mini-2024-07-18', 'system_fingerprint': None, 'id': 'chatcmpl-BvCHP4CnStHfMJdx1ekhSDoS6F7Mj', 'service_tier': 'default', 'finish_reason': 'stop', 'logprobs': None}, id='run--fa5ea4e1-b16b-43f7-95d6-f75d8287aaab-0', usage_metadata={'input_tokens': 35, 'output_tokens': 156, 'total_tokens': 191, 'input_token_details': {'audio': 0, 'cache_read': 0}, 'output_token_details': {'audio': 0, 'reasoning': 0}})}"
      ]
     },
     "execution_count": 307,
     "metadata": {},
     "output_type": "execute_result"
    }
   ],
   "source": [
    "initial_state={\n",
    "    \"review\": \"The new update broke several features I use daily. Please roll back the changes or fix them soon.\",\n",
    "    \n",
    "}\n",
    "\n",
    "workflow.invoke(initial_state)"
   ]
  }
 ],
 "metadata": {
  "kernelspec": {
   "display_name": "myenv",
   "language": "python",
   "name": "python3"
  },
  "language_info": {
   "codemirror_mode": {
    "name": "ipython",
    "version": 3
   },
   "file_extension": ".py",
   "mimetype": "text/x-python",
   "name": "python",
   "nbconvert_exporter": "python",
   "pygments_lexer": "ipython3",
   "version": "3.13.1"
  }
 },
 "nbformat": 4,
 "nbformat_minor": 5
}
