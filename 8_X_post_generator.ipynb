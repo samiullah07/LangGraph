{
 "cells": [
  {
   "cell_type": "code",
   "execution_count": 199,
   "id": "d4409c2f",
   "metadata": {},
   "outputs": [],
   "source": [
    "from langgraph.graph import StateGraph, START, END\n",
    "from pydantic import  BaseModel\n",
    "from dotenv import load_dotenv\n",
    "from typing import List,Annotated,TypedDict, Literal\n",
    "from langchain_groq import ChatGroq\n",
    "from langchain_openai import ChatOpenAI\n",
    "from langchain_core.messages import HumanMessage, SystemMessage"
   ]
  },
  {
   "cell_type": "code",
   "execution_count": 200,
   "id": "32c41d87",
   "metadata": {},
   "outputs": [],
   "source": [
    "load_dotenv()\n",
    "\n",
    "tweet_generation_llm = ChatOpenAI(model=\"gpt-4o-mini\")\n",
    "tweet_evaluation_llm = ChatGroq(model=\"llama-3.1-8b-instant\")\n",
    "tweet_optimizer_llm = ChatOpenAI(model=\"gpt-4o\")\n",
    "\n",
    "class Tweet_evaluation(BaseModel):\n",
    "  \n",
    "    evaluation: Literal[\"approved\", \"needs_improvement\"]\n",
    "    feedback: str\n",
    "\n",
    "\n",
    "tweet_evaluation_llm_structure = tweet_evaluation_llm.with_structured_output(Tweet_evaluation)"
   ]
  },
  {
   "cell_type": "code",
   "execution_count": 201,
   "id": "90183bc3",
   "metadata": {},
   "outputs": [],
   "source": [
    "class TweetState(TypedDict):\n",
    "\n",
    "    topic: str\n",
    "    tweet: str\n",
    "    evaluation: Literal[\"approved\", \"needs_improvement\"]\n",
    "    feedback: str\n",
    "    iteration: int\n",
    "    max_iteration: int\n",
    "    "
   ]
  },
  {
   "cell_type": "code",
   "execution_count": 202,
   "id": "3bbbc656",
   "metadata": {},
   "outputs": [],
   "source": [
    "def tweet_generation(state: TweetState):\n",
    "    # prompt\n",
    "    messages = [\n",
    "        SystemMessage(content=\"You are a funny and clever Twitter/X influencer.\"),\n",
    "        HumanMessage(content=f\"\"\"\n",
    "Write a short, original, and hilarious tweet on the topic: \"{state['topic']}\".\n",
    "\n",
    "Rules:\n",
    "- Do NOT use question-answer format.\n",
    "- Max 280 characters.\n",
    "- Use observational humor, irony, sarcasm, or cultural references.\n",
    "- Think in meme logic, punchlines, or relatable takes.\n",
    "- Use simple, day to day english\n",
    "\"\"\")\n",
    "    ]\n",
    "    response = tweet_generation_llm.invoke(messages).content\n",
    "\n",
    "    return {\"tweet\":response}"
   ]
  },
  {
   "cell_type": "code",
   "execution_count": 203,
   "id": "70e49919",
   "metadata": {},
   "outputs": [],
   "source": [
    "def tweet_evaluation(state: TweetState):\n",
    "    evaluation_messages = [\n",
    "    SystemMessage(content=\"You are a social media expert and meme analyst reviewing tweets for quality.\"),\n",
    "    HumanMessage(content=f\"\"\"Your task is to evaluate this tweet and decide if it’s good enough to be posted.Tweet:\n",
    "    \"{state['tweet']}\"\n",
    "\n",
    "    Evaluate based on:\n",
    "    - Humor (clever, witty, or relatable)\n",
    "    - Originality (not generic or overused)\n",
    "    - Clarity (easy to understand)\n",
    "    - Punchiness (ends strong or surprising)\n",
    "\n",
    "    Rules:\n",
    "    - Reply in JSON format like:\n",
    "    {{\n",
    "        \"verdict\": \"approve\" or \"reject\",\n",
    "        \"reason\": \"Brief 1-2 sentence reason\"\n",
    "    }}\n",
    "    \"\"\")\n",
    "    ] \n",
    "    response = tweet_evaluation_llm_structure.invoke(evaluation_messages)\n",
    "\n",
    "    return {\"evaluation\": response.evaluation, \"feedback\": response.feedback}\n",
    "\n",
    "\n"
   ]
  },
  {
   "cell_type": "code",
   "execution_count": 204,
   "id": "9ef45600",
   "metadata": {},
   "outputs": [],
   "source": [
    "def optimize_tweet(state: TweetState):\n",
    "    messages = [\n",
    "    SystemMessage(content = \"You punch up tweets for virality and humor based on given feedback.\"),\n",
    "    HumanMessage(content=f\"\"\"\n",
    "    Improve the tweet based on this feedback:\n",
    "    (state['feedback' ])\n",
    "    Topic: \"(state['topic'])*\n",
    "    Original Tweet:\n",
    "    (state['tweet'])\n",
    "    Re-write it as a short, viral-worthy tweet. Avoid QIA style and stay under 280 characters.\n",
    "    \"\"\")\n",
    "    ]\n",
    "    response = tweet_optimizer_llm.invoke(messages).content\n",
    "    state[\"iteration\"] += 1\n",
    "    return {\"tweet\": response,\"iteration\": state[\"iteration\"] + 1}"
   ]
  },
  {
   "cell_type": "code",
   "execution_count": 205,
   "id": "2acd7db5",
   "metadata": {},
   "outputs": [],
   "source": [
    "def route_evaluation(state:TweetState):\n",
    "    if state[\"evaluation\"] == \"approved\" or state[\"iteration\"] >= state[\"max_iteration\"]:\n",
    "        return \"approved\"\n",
    "   \n",
    "    else:\n",
    "        return \"needs_improvement\""
   ]
  },
  {
   "cell_type": "code",
   "execution_count": 206,
   "id": "66690183",
   "metadata": {},
   "outputs": [
    {
     "data": {
      "text/plain": [
       "<langgraph.graph.state.StateGraph at 0x216a54e3e10>"
      ]
     },
     "execution_count": 206,
     "metadata": {},
     "output_type": "execute_result"
    }
   ],
   "source": [
    "state = StateGraph(TweetState)\n",
    "state.add_node(\"tweet_generation\", tweet_generation)\n",
    "state.add_node(\"tweet_evaluation\",tweet_evaluation)\n",
    "state.add_node(\"tweet_optimizer\", optimize_tweet)\n",
    "\n",
    "state.add_edge(START,\"tweet_generation\")\n",
    "state.add_edge(\"tweet_generation\",\"tweet_evaluation\")\n",
    "state.add_conditional_edges(\"tweet_evaluation\", route_evaluation , {\"approved\":END, \"needs_improvement\": \"tweet_optimizer\"})\n",
    "state.add_edge(\"tweet_optimizer\", \"tweet_evaluation\")\n"
   ]
  },
  {
   "cell_type": "code",
   "execution_count": 207,
   "id": "63ddaca5",
   "metadata": {},
   "outputs": [
    {
     "data": {
      "image/png": "[encoded data removed]",
      "text/plain": [
       "<langgraph.graph.state.CompiledStateGraph object at 0x00000216A80B3D90>"
      ]
     },
     "execution_count": 207,
     "metadata": {},
     "output_type": "execute_result"
    }
   ],
   "source": [
    "workflow = state.compile()\n",
    "\n",
    "workflow"
   ]
  },
  {
   "cell_type": "code",
   "execution_count": 208,
   "id": "59df1f80",
   "metadata": {},
   "outputs": [
    {
     "data": {
      "text/plain": [
       "{'topic': 'adkflaljhdg',\n",
       " 'tweet': '\"Adkflaljhdg: the universal sound of trying to type while laughing and accidentally summoning a new language. Sounds like my phone’s desperate attempt to translate my chaotic thoughts into an ancient dialect of ‘Oops!’ 😂📱\"',\n",
       " 'evaluation': 'approved',\n",
       " 'feedback': 'The tweet uses clever wordplay, has a relatable concept, and ends with a strong punchline. The use of emojis adds to its humor and clarity.',\n",
       " 'iteration': 1,\n",
       " 'max_iteration': 5}"
      ]
     },
     "execution_count": 208,
     "metadata": {},
     "output_type": "execute_result"
    }
   ],
   "source": [
    "initial_state = {\n",
    "    \"topic\": \"adkflaljhdg\",\n",
    "    \"iteration\": 1,\n",
    "    \"max_iteration\": 5\n",
    "}\n",
    "\n",
    "workflow.invoke(initial_state)"
   ]
  }
 ],
 "metadata": {
  "kernelspec": {
   "display_name": "myenv",
   "language": "python",
   "name": "python3"
  },
  "language_info": {
   "codemirror_mode": {
    "name": "ipython",
    "version": 3
   },
   "file_extension": ".py",
   "mimetype": "text/x-python",
   "name": "python",
   "nbconvert_exporter": "python",
   "pygments_lexer": "ipython3",
   "version": "3.13.1"
  }
 },
 "nbformat": 4,
 "nbformat_minor": 5
}
