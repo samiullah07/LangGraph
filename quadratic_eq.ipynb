{
 "cells": [
  {
   "cell_type": "code",
   "execution_count": 1,
   "id": "6f93e9bf",
   "metadata": {},
   "outputs": [],
   "source": [
    "from langgraph.graph import StateGraph, START, END\n",
    "from typing import TypedDict, Annotated, Literal"
   ]
  },
  {
   "cell_type": "code",
   "execution_count": 2,
   "id": "1e985d42",
   "metadata": {},
   "outputs": [],
   "source": [
    "class QuadraticEquation(TypedDict):\n",
    "    a: float\n",
    "    b:float\n",
    "    c:float\n",
    "    discriminant: float\n",
    "    equation: str\n",
    "    result: str\n",
    "    "
   ]
  },
  {
   "cell_type": "code",
   "execution_count": 3,
   "id": "815b3723",
   "metadata": {},
   "outputs": [],
   "source": [
    "def show_equation(state:QuadraticEquation) -> QuadraticEquation:\n",
    "    equation = f\"{state['a']}x^2 + {state['b']}x + {state['c']}\"\n",
    "    return {\"equation\": equation}"
   ]
  },
  {
   "cell_type": "code",
   "execution_count": 4,
   "id": "2cebfd29",
   "metadata": {},
   "outputs": [],
   "source": [
    "def calculate_discriminant(state: QuadraticEquation) -> QuadraticEquation:\n",
    "    discriminant = state['b']**2 - 4 * state['a'] * state['c']\n",
    "    return {\"discriminant\": discriminant}"
   ]
  },
  {
   "cell_type": "code",
   "execution_count": 5,
   "id": "96c55f5a",
   "metadata": {},
   "outputs": [],
   "source": [
    "def real_roots(state: QuadraticEquation) -> QuadraticEquation:\n",
    "    root1 = (-state['b'] + state['discriminant']**0.5) / (2 * state['a'])\n",
    "    root2 = (-state['b'] - state['discriminant']**0.5) / (2 * state['a'])\n",
    "    result = f\"Two real roots: {root1} and {root2}\"\n",
    "    \n",
    "    return {\"result\": result}"
   ]
  },
  {
   "cell_type": "code",
   "execution_count": 6,
   "id": "e0a32cad",
   "metadata": {},
   "outputs": [],
   "source": [
    "def no_real_roots(state: QuadraticEquation) -> QuadraticEquation:\n",
    "    result = \"No real roots\"\n",
    "    return {\"result\": result}\n"
   ]
  },
  {
   "cell_type": "code",
   "execution_count": 7,
   "id": "624e7d71",
   "metadata": {},
   "outputs": [],
   "source": [
    "def repeated_roots(state: QuadraticEquation) -> QuadraticEquation:\n",
    "    root = -state['b'] / (2 * state['a'])\n",
    "    result = f\"One repeated root: {root}\"\n",
    "    \n",
    "    return {\"result\": result}"
   ]
  },
  {
   "cell_type": "code",
   "execution_count": 8,
   "id": "ec9d807f",
   "metadata": {},
   "outputs": [],
   "source": [
    "def check_condition(state: QuadraticEquation) -> Literal['real', 'no_real', 'repeated']:\n",
    "    if state['discriminant'] > 0:\n",
    "        return 'real'\n",
    "    elif state['discriminant'] == 0:\n",
    "        return 'repeated'\n",
    "    else:\n",
    "        return 'no_real'\n",
    "    \n"
   ]
  },
  {
   "cell_type": "code",
   "execution_count": 9,
   "id": "eec7eb43",
   "metadata": {},
   "outputs": [
    {
     "data": {
      "text/plain": [
       "<langgraph.graph.state.StateGraph at 0x1dec19d5d30>"
      ]
     },
     "execution_count": 9,
     "metadata": {},
     "output_type": "execute_result"
    }
   ],
   "source": [
    "quad_state = StateGraph(QuadraticEquation)\n",
    "quad_state.add_node(\"show_equation\", show_equation)\n",
    "quad_state.add_node(\"calculate_discriminant\", calculate_discriminant)\n",
    "quad_state.add_node(\"real_roots\",real_roots)\n",
    "quad_state.add_node(\"no_real_roots\",no_real_roots)\n",
    "quad_state.add_node(\"repeated_roots\",repeated_roots)\n",
    "\n",
    "\n",
    "\n",
    "quad_state.add_edge(START, \"show_equation\")\n",
    "quad_state.add_edge(\"show_equation\", \"calculate_discriminant\")\n",
    "quad_state.add_conditional_edges(\"calculate_discriminant\", check_condition,{\n",
    "        \"real\": \"real_roots\",\n",
    "        \"repeated\": \"repeated_roots\",\n",
    "        \"no_real\": \"no_real_roots\"\n",
    "    })\n",
    "quad_state.add_edge(\"real_roots\", END)\n",
    "quad_state.add_edge(\"no_real_roots\", END)\n",
    "quad_state.add_edge(\"repeated_roots\", END)\n",
    "\n"
   ]
  },
  {
   "cell_type": "code",
   "execution_count": 10,
   "id": "6a9041c8",
   "metadata": {},
   "outputs": [
    {
     "data": {
      "text/plain": [
       "{'a': 2.0,\n",
       " 'b': 4.0,\n",
       " 'c': 2.0,\n",
       " 'discriminant': 0.0,\n",
       " 'equation': '2.0x^2 + 4.0x + 2.0',\n",
       " 'result': 'One repeated root: -1.0'}"
      ]
     },
     "execution_count": 10,
     "metadata": {},
     "output_type": "execute_result"
    }
   ],
   "source": [
    "workflow=quad_state.compile()\n",
    "initial_state = {    \"a\": 2.0,\n",
    "    \"b\": 4.0, \"c\": 2.0, }\n",
    "\n",
    "workflow.invoke(initial_state)\n"
   ]
  },
  {
   "cell_type": "code",
   "execution_count": 11,
   "id": "a39d55ba",
   "metadata": {},
   "outputs": [
    {
     "data": {
      "image/png": "[encoded data removed]",
      "text/plain": [
       "<langgraph.graph.state.CompiledStateGraph object at 0x000001DEC19D6E40>"
      ]
     },
     "execution_count": 11,
     "metadata": {},
     "output_type": "execute_result"
    }
   ],
   "source": [
    "workflow"
   ]
  }
 ],
 "metadata": {
  "kernelspec": {
   "display_name": "myenv",
   "language": "python",
   "name": "python3"
  },
  "language_info": {
   "codemirror_mode": {
    "name": "ipython",
    "version": 3
   },
   "file_extension": ".py",
   "mimetype": "text/x-python",
   "name": "python",
   "nbconvert_exporter": "python",
   "pygments_lexer": "ipython3",
   "version": "3.13.1"
  }
 },
 "nbformat": 4,
 "nbformat_minor": 5
}
