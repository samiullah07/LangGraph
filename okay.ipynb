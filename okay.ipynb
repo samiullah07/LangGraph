{
 "cells": [
  {
   "cell_type": "code",
   "execution_count": 1,
   "id": "292dc5b5",
   "metadata": {},
   "outputs": [
    {
     "name": "stdout",
     "output_type": "stream",
     "text": [
      "{'translate': 'Hello, how are you?', 'sentiment': 'The sentiment of the text \"Hello, how are you?\" is neutral. It expresses a friendly greeting and an inquiry about someone\\'s well-being, but it does not convey strong positive or negative emotions.', 'summarize': \"The text is a friendly greeting asking about someone's well-being.\", 'combined_result': 'Translation: Hello, how are you?\\nSentiment: The sentiment of the text \"Hello, how are you?\" is neutral. It expresses a friendly greeting and an inquiry about someone\\'s well-being, but it does not convey strong positive or negative emotions.\\nSummary: The text is a friendly greeting asking about someone\\'s well-being.'}\n"
     ]
    }
   ],
   "source": [
    "from langgraph.graph import StateGraph, START, END\n",
    "from typing import TypedDict\n",
    "from langchain_openai import ChatOpenAI\n",
    "from dotenv import load_dotenv\n",
    "\n",
    "# Load environment variables\n",
    "load_dotenv()\n",
    "\n",
    "# Initialize ChatOpenAI\n",
    "chat_openai = ChatOpenAI(model=\"gpt-4o-mini\", temperature=0.1, max_tokens=1000)\n",
    "\n",
    "# Define state schema\n",
    "class SentimentAnalyzer(TypedDict):\n",
    "    translate: str\n",
    "    sentiment: str\n",
    "    summarize: str\n",
    "    combined_result: str\n",
    "\n",
    "# Define graph nodes\n",
    "def translate_to_english(state: SentimentAnalyzer) -> SentimentAnalyzer:\n",
    "    response = chat_openai.invoke(f\"Translate the following text to English: {state['translate']}\")\n",
    "    state['translate'] = response.content\n",
    "    return state\n",
    "\n",
    "def sentiment_analysis(state: SentimentAnalyzer) -> SentimentAnalyzer:\n",
    "    response = chat_openai.invoke(f\"Analyze the sentiment of the following text: {state['translate']}\")\n",
    "    state['sentiment'] = response.content\n",
    "    return state\n",
    "\n",
    "def summarize_text(state: SentimentAnalyzer) -> SentimentAnalyzer:\n",
    "    response = chat_openai.invoke(f\"Summarize the following text: {state['translate']}\")\n",
    "    state['summarize'] = response.content\n",
    "    return state\n",
    "\n",
    "def combine_result(state: SentimentAnalyzer) -> SentimentAnalyzer:\n",
    "    state['combined_result'] = (\n",
    "        f\"Translation: {state['translate']}\\n\"\n",
    "        f\"Sentiment: {state['sentiment']}\\n\"\n",
    "        f\"Summary: {state['summarize']}\"\n",
    "    )\n",
    "    return state\n",
    "\n",
    "# Build state graph\n",
    "state = StateGraph(SentimentAnalyzer)\n",
    "state.add_node(\"translate\", translate_to_english)\n",
    "state.add_node(\"sentiment_analysis\", sentiment_analysis)\n",
    "state.add_node(\"summarize\", summarize_text)\n",
    "state.add_node(\"combine_result\", combine_result)\n",
    "\n",
    "# Define workflow edges (sequential)\n",
    "state.add_edge(START, \"translate\")\n",
    "state.add_edge(\"translate\", \"sentiment_analysis\")\n",
    "state.add_edge(\"sentiment_analysis\", \"summarize\")\n",
    "state.add_edge(\"summarize\", \"combine_result\")\n",
    "state.add_edge(\"combine_result\", END)\n",
    "\n",
    "# Compile workflow\n",
    "workflow = state.compile()\n",
    "\n",
    "# Run workflow\n",
    "input_data = {\"translate\": \"Bonjour, comment ça va?\"}\n",
    "result = workflow.invoke(input_data)\n",
    "\n",
    "print(result)\n"
   ]
  },
  {
   "cell_type": "code",
   "execution_count": 2,
   "id": "c87687cf",
   "metadata": {},
   "outputs": [
    {
     "data": {
      "image/png": "[encoded data removed]",
      "text/plain": [
       "<langgraph.graph.state.CompiledStateGraph object at 0x0000020170558050>"
      ]
     },
     "execution_count": 2,
     "metadata": {},
     "output_type": "execute_result"
    }
   ],
   "source": [
    "workflow"
   ]
  }
 ],
 "metadata": {
  "kernelspec": {
   "display_name": "myenv",
   "language": "python",
   "name": "python3"
  },
  "language_info": {
   "codemirror_mode": {
    "name": "ipython",
    "version": 3
   },
   "file_extension": ".py",
   "mimetype": "text/x-python",
   "name": "python",
   "nbconvert_exporter": "python",
   "pygments_lexer": "ipython3",
   "version": "3.13.1"
  }
 },
 "nbformat": 4,
 "nbformat_minor": 5
}
