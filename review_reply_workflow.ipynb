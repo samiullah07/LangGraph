{
 "cells": [
  {
   "cell_type": "code",
   "execution_count": 292,
   "id": "0e0b0267",
   "metadata": {},
   "outputs": [
    {
     "data": {
      "text/plain": [
       "True"
      ]
     },
     "execution_count": 292,
     "metadata": {},
     "output_type": "execute_result"
    }
   ],
   "source": [
    "from langgraph.graph import StateGraph, START, END\n",
    "from typing import TypedDict, Literal, List\n",
    "from langchain_openai import ChatOpenAI\n",
    "from dotenv import load_dotenv\n",
    "from pydantic import BaseModel , Field\n",
    "load_dotenv()"
   ]
  },
  {
   "cell_type": "code",
   "execution_count": 293,
   "id": "5b1e5ee8",
   "metadata": {},
   "outputs": [],
   "source": [
    "model = ChatOpenAI(model_name=\"gpt-4o-mini\")\n",
    "\n",
    "class sentiment(BaseModel):\n",
    "    sentiment: Literal[\"positive\", \"negative\", \"neutral\"] = Field(..., description=\"The sentiment of the review. Can be positive, negative, or neutral.\")\n",
    "\n",
    "structure_model = model.with_structured_output(sentiment)\n",
    "\n",
    "class DiagnosisSchema(BaseModel):\n",
    "    issue_type: Literal[\"UX\", \"Performance\", \"Bug\", \"Support\", \"Other\"] = Field(description='The category of issue mentioned in the review')\n",
    "    tone: Literal[\"angry\", \"frustrated\", \"disappointed\", \"calm\"] = Field(description='The emotional tone expressed by the user')\n",
    "    urgency: Literal[\"low\", \"medium\", \"high\"] = Field(description='How urgent or critical the issue appears to be')\n",
    "\n",
    "sturcture_model_diagnosis = model.with_structured_output(DiagnosisSchema)    \n",
    "\n",
    "     "
   ]
  },
  {
   "cell_type": "code",
   "execution_count": 294,
   "id": "8cfb5ca9",
   "metadata": {},
   "outputs": [],
   "source": [
    "class ReviewReply(TypedDict):\n",
    "    review: str\n",
    "    sentiment: Literal[\"positive\", \"negative\", \"neutral\"]\n",
    "    diagnosis: DiagnosisSchema\n",
    "    reply: str"
   ]
  },
  {
   "cell_type": "code",
   "execution_count": 295,
   "id": "3bfd8397",
   "metadata": {},
   "outputs": [],
   "source": [
    "def find_sentiment(state: ReviewReply) -> ReviewReply:\n",
    "    review = state['review']\n",
    "    \n",
    "    prompt = f\"Analyze the sentiment of this review: \\\"{review}\\\"\"\n",
    "    sentiment_result = structure_model.invoke(prompt)\n",
    "    \n",
    "    return {\"sentiment\": sentiment_result.sentiment}"
   ]
  },
  {
   "cell_type": "code",
   "execution_count": 296,
   "id": "8a19f131",
   "metadata": {},
   "outputs": [],
   "source": [
    "def check_sentiment(state: ReviewReply) -> Literal[\"positive_reply\", \"diagonsis_reply\"]:\n",
    "\n",
    "    if state['sentiment'] == 'positive':\n",
    "        return 'postive_reply'\n",
    "    else:\n",
    "        return 'diagonsis_reply'"
   ]
  },
  {
   "cell_type": "code",
   "execution_count": 297,
   "id": "f686297d",
   "metadata": {},
   "outputs": [],
   "source": [
    "def postive_reply(state:ReviewReply) -> ReviewReply:\n",
    "    \n",
    "    prompt = f\"\"\"Write a warm thank-you message in response to this review:\n",
    "    \\n\\n\\\"{state['review']}\\\"\\n Also, kindly ask the user to leave feedback on our website.\"\"\"   \n",
    "    reply = model.invoke(prompt)\n",
    "     \n",
    "    return {\"reply\": reply}"
   ]
  },
  {
   "cell_type": "code",
   "execution_count": 298,
   "id": "ef126050",
   "metadata": {},
   "outputs": [],
   "source": [
    "def negative_reply(state:ReviewReply) -> ReviewReply:\n",
    "    \n",
    "    prompt = f\"\"\"Write a warm thank-you message in response to this review:\n",
    "    \\n\\n\\\"{state['review']}\\\"\\n Also, kindly ask the user to leave feedback on our website.\"\"\"   \n",
    "    reply = model.invoke(prompt)\n",
    "     \n",
    "    return {\"reply\": reply}"
   ]
  },
  {
   "cell_type": "code",
   "execution_count": 299,
   "id": "efef8a72",
   "metadata": {},
   "outputs": [],
   "source": [
    "def diagonsis_reply(state: ReviewReply) -> ReviewReply:\n",
    "    \n",
    "    prompt = f\"Analyze the review and provide a diagnosis with issue type, tone, and urgency: \\\"{state['review']}\\\"\"\n",
    "    reply = model.invoke(prompt)\n",
    "    \n",
    "    return {\"diagnosis\": reply}"
   ]
  },
  {
   "cell_type": "code",
   "execution_count": 300,
   "id": "7be28017",
   "metadata": {},
   "outputs": [
    {
     "data": {
      "text/plain": [
       "<langgraph.graph.state.StateGraph at 0x238fe911d10>"
      ]
     },
     "execution_count": 300,
     "metadata": {},
     "output_type": "execute_result"
    }
   ],
   "source": [
    "state = StateGraph(ReviewReply)\n",
    "state.add_node(\"find_sentiment\",find_sentiment)\n",
    "state.add_node(\"positive_reply\",postive_reply)\n",
    "state.add_node(\"diagonsis_reply\",diagonsis_reply)\n",
    "state.add_node(\"negative_reply\",negative_reply)\n",
    "\n",
    "state.add_edge(START, \"find_sentiment\")\n",
    "state.add_conditional_edges(\"find_sentiment\", check_sentiment)\n",
    "state.add_edge(\"positive_reply\", END)\n",
    "state.add_edge(\"diagonsis_reply\", \"negative_reply\")\n",
    "state.add_edge(\"negative_reply\", END)"
   ]
  },
  {
   "cell_type": "code",
   "execution_count": 301,
   "id": "0f773963",
   "metadata": {},
   "outputs": [
    {
     "data": {
      "image/png": "[encoded data removed]",
      "text/plain": [
       "<langgraph.graph.state.CompiledStateGraph object at 0x00000238FCC1BBD0>"
      ]
     },
     "execution_count": 301,
     "metadata": {},
     "output_type": "execute_result"
    }
   ],
   "source": [
    "workflow = state.compile()\n",
    "workflow"
   ]
  },
  {
   "cell_type": "code",
   "execution_count": 302,
   "id": "c27ee621",
   "metadata": {},
   "outputs": [
    {
     "data": {
      "text/plain": [
       "{'review': 'I’ve been trying to log in for over an hour now, and the app keeps freezing on the authentication screen. I even tried reinstalling it, but no luck. This kind of bug is unacceptable, especially when it affects basic functionality.',\n",
       " 'sentiment': 'negative',\n",
       " 'diagnosis': AIMessage(content='**Diagnosis:**\\n\\n- **Issue Type:** Technical Bug / App Functionality\\n- **Tone:** Frustrated / Disappointed\\n- **Urgency:** High\\n\\n**Analysis:**\\nThe user expresses frustration over a persistent issue with the app that is preventing them from logging in, indicating a critical barrier to accessing the app\\'s basic functionality. The mention of the app freezing and the attempted solution (reinstallation) suggests a serious bug that is likely affecting not just this user but potentially others as well. The use of the phrase \"unacceptable\" highlights the severity of the issue and the user\\'s expectation for a reliable experience. Overall, this issue should be prioritized for prompt resolution due to its impact on user experience.', additional_kwargs={'refusal': None}, response_metadata={'token_usage': {'completion_tokens': 143, 'prompt_tokens': 72, 'total_tokens': 215, 'completion_tokens_details': {'accepted_prediction_tokens': 0, 'audio_tokens': 0, 'reasoning_tokens': 0, 'rejected_prediction_tokens': 0}, 'prompt_tokens_details': {'audio_tokens': 0, 'cached_tokens': 0}}, 'model_name': 'gpt-4o-mini-2024-07-18', 'system_fingerprint': None, 'id': 'chatcmpl-BvAnnzOYDaUPPgzHMrAN2uNEnWNtO', 'service_tier': 'default', 'finish_reason': 'stop', 'logprobs': None}, id='run--5bea4bd8-9cb5-47d7-a703-c69ea95e4458-0', usage_metadata={'input_tokens': 72, 'output_tokens': 143, 'total_tokens': 215, 'input_token_details': {'audio': 0, 'cache_read': 0}, 'output_token_details': {'audio': 0, 'reasoning': 0}}),\n",
       " 'reply': AIMessage(content=\"Subject: Thank You for Your Feedback\\n\\nDear [User's Name],\\n\\nThank you for taking the time to share your experience with us. I’m truly sorry to hear that you encountered issues while trying to log in to the app. We understand how frustrating it can be when technology does not work as intended, especially for something so essential. \\n\\nYour feedback is invaluable to us, and I want you to know that we are actively looking into this bug to ensure a smoother experience for all our users. If you have any additional details or if there’s anything else we can assist you with, please don’t hesitate to reach out.\\n\\nWe would also appreciate it if you could share your thoughts on our website. Your insights help us improve and provide a better experience moving forward.\\n\\nThank you once again for your patience and understanding. We’re committed to resolving this issue as quickly as possible!\\n\\nWarm regards,\\n\\n[Your Name]  \\n[Your Position]  \\n[Contact Information]  \", additional_kwargs={'refusal': None}, response_metadata={'token_usage': {'completion_tokens': 193, 'prompt_tokens': 81, 'total_tokens': 274, 'completion_tokens_details': {'accepted_prediction_tokens': 0, 'audio_tokens': 0, 'reasoning_tokens': 0, 'rejected_prediction_tokens': 0}, 'prompt_tokens_details': {'audio_tokens': 0, 'cached_tokens': 0}}, 'model_name': 'gpt-4o-mini-2024-07-18', 'system_fingerprint': None, 'id': 'chatcmpl-BvAnpwQBOpTZdb6s6i3SIPBLv1BOD', 'service_tier': 'default', 'finish_reason': 'stop', 'logprobs': None}, id='run--3de51491-6cd6-4f0c-8b78-8d959b9d980a-0', usage_metadata={'input_tokens': 81, 'output_tokens': 193, 'total_tokens': 274, 'input_token_details': {'audio': 0, 'cache_read': 0}, 'output_token_details': {'audio': 0, 'reasoning': 0}})}"
      ]
     },
     "execution_count": 302,
     "metadata": {},
     "output_type": "execute_result"
    }
   ],
   "source": [
    "intial_state={\n",
    "    'review': \"I’ve been trying to log in for over an hour now, and the app keeps freezing on the authentication screen. I even tried reinstalling it, but no luck. This kind of bug is unacceptable, especially when it affects basic functionality.\"\n",
    "}\n",
    "workflow.invoke(intial_state)"
   ]
  }
 ],
 "metadata": {
  "kernelspec": {
   "display_name": "myenv",
   "language": "python",
   "name": "python3"
  },
  "language_info": {
   "codemirror_mode": {
    "name": "ipython",
    "version": 3
   },
   "file_extension": ".py",
   "mimetype": "text/x-python",
   "name": "python",
   "nbconvert_exporter": "python",
   "pygments_lexer": "ipython3",
   "version": "3.13.1"
  }
 },
 "nbformat": 4,
 "nbformat_minor": 5
}
